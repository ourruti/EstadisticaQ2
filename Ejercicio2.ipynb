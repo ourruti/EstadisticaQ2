import pandas as pd
import numpy as np
import matplotlib.pyplot as plt
import statsmodels.api as sm
from scipy.stats import kstest, norm
import seaborn as sns

# Convert 'time' column to datetime objects
df['Time2'] = pd.to_datetime(df['Time'])
df['Hour'] = df['Time2'].dt.hour

# Histogramas y diagramas de caja para variables numéricas
numerical_cols = ['Hour','BW', 'BPD', 'AD', 'Ge']
for col in numerical_cols:    
    plt.figure(figsize=(10, 4))
    plt.subplot(1, 2, 1)
    if col == 'Hour':
        plt.hist(df[col], bins=24)  # Ajusta el número de bins según sea necesario
    else:
        plt.hist(df[col], bins=10)  # Ajusta el número de bins según sea necesario
    plt.title(f'Histograma de {col}')
    plt.subplot(1, 2, 2)
    sns.boxplot(x=df[col])
    plt.title(f'Diagrama de caja de {col}')
    plt.show()


# Crear Q-Q plots para cada variable
for var in numerical_cols:
    if var != 'Hour':
        sm.qqplot(df[var].dropna(), line='s')
        plt.title(f"Q-Q Plot de {var}")
        plt.grid(True)
        plt.show()

# Gráficos de barras para variables categóricas
categorical_cols = ['HP', 'City', 'Day', 'Sex', 'Sm']
for col in categorical_cols:
    plt.figure(figsize=(8, 6))
    df[col].value_counts().plot(kind='bar')
    plt.title(f'Gráfico de barras de {col}')
    plt.xlabel(col)
    plt.ylabel('Frecuencia')
    plt.show()


# Matriz de correlación entre variables numéricas
correlation_matrix = df[numerical_cols].corr()

# Mostrar la matriz de correlación como un mapa de calor
plt.figure(figsize=(8, 6))
sns.heatmap(correlation_matrix, annot=True, cmap='coolwarm', fmt=".2f")
plt.title('Matriz de correlación')
plt.show()

print(correlation_matrix)

# Interpretación de la matriz de correlación
print("Interpretación de la matriz de correlación:")
for i in range(len(numerical_cols)):
    for j in range(i + 1, len(numerical_cols)):
        correlation = correlation_matrix.iloc[i, j]
        col1 = numerical_cols[i]
        col2 = numerical_cols[j]
        if abs(correlation) > 0.5:  # Umbral para considerar correlación significativa
            print(f"Existe una correlación { 'positiva' if correlation>0 else 'negativa'}  significativa entre {col1} y {col2} (r = {correlation:.2f})")

# Check if the dataframe 'df' exists and has a numeric column
if 'df' in locals() and any(pd.api.types.is_numeric_dtype(df[col]) for col in df.columns):
    numeric_cols = df.select_dtypes(include=['number']).columns
    for col in numeric_cols:
      if col != 'ID':
        # Kolmogorov-Smirnov test
        estadistico, p = kstest(df[col], 'norm')  # Test against normal 
        print(f'Kolmogorov-Smirnov test for {col}:')
        print(f'  K-statistic: {estadistico:.2f}')
        print(f'  P-value: {p:.2f}')
        alpha = 0.05
        if p < alpha:
            print(f'  The data in {col} does not follow a normal distribution.')
        else:
            print(f'  The data in {col} may follow a normal distribution.')


        # Plot the distribution
        plt.figure(figsize=(8, 6))
        plt.hist(df[col], bins=30, density=True, alpha=0.6, color='b', label='Data')
        xmin, xmax = plt.xlim()
        x = np.linspace(xmin, xmax, 100)
        p = norm.pdf(x, loc=df[col].mean(), scale=df[col].std())
        plt.plot(x, p, 'k', linewidth=2, label='Distribución Normal')
        plt.title(f'Distribución de {col}')
        plt.xlabel(col)
        plt.ylabel('Frecuencia')
        plt.legend()
        plt.show()
else:
    print("DataFrame 'df' not found or does not contain numeric columns.")
